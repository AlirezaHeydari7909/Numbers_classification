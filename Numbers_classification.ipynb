{
  "nbformat": 4,
  "nbformat_minor": 0,
  "metadata": {
    "colab": {
      "provenance": [],
      "gpuType": "T4"
    },
    "kernelspec": {
      "name": "python3",
      "display_name": "Python 3"
    },
    "language_info": {
      "name": "python"
    },
    "accelerator": "GPU"
  },
  "cells": [
    {
      "cell_type": "code",
      "execution_count": null,
      "metadata": {
        "id": "O9U0xkth-db2"
      },
      "outputs": [],
      "source": [
        "import tensorflow as tf\n",
        "import numpy as np\n",
        "import matplotlib.pyplot as plt\n",
        "from tensorflow import keras"
      ]
    },
    {
      "cell_type": "code",
      "source": [
        "mnist = keras.datasets.mnist"
      ],
      "metadata": {
        "id": "QkHd4b9_Nf9c"
      },
      "execution_count": null,
      "outputs": []
    },
    {
      "cell_type": "code",
      "source": [
        "(train_features, train_labels), (test_features, test_labels) = mnist.load_data()"
      ],
      "metadata": {
        "id": "VW3oKzEKN4Go"
      },
      "execution_count": null,
      "outputs": []
    },
    {
      "cell_type": "code",
      "source": [
        "train_features.shape"
      ],
      "metadata": {
        "colab": {
          "base_uri": "https://localhost:8080/"
        },
        "id": "AWSA1T-APRbf",
        "outputId": "a1542bd2-adeb-4a69-b703-58a5e6292a36"
      },
      "execution_count": null,
      "outputs": [
        {
          "output_type": "execute_result",
          "data": {
            "text/plain": [
              "(60000, 28, 28)"
            ]
          },
          "metadata": {},
          "execution_count": 53
        }
      ]
    },
    {
      "cell_type": "markdown",
      "source": [
        "# Preprocessing"
      ],
      "metadata": {
        "id": "j6to7TTdQbgP"
      }
    },
    {
      "cell_type": "code",
      "source": [
        "np.min(train_features), np.max(train_features)"
      ],
      "metadata": {
        "colab": {
          "base_uri": "https://localhost:8080/"
        },
        "id": "pGAkHCxwQfC6",
        "outputId": "7e97ebf5-8f1d-4b8f-89f2-dd2dc0d929ec"
      },
      "execution_count": null,
      "outputs": [
        {
          "output_type": "execute_result",
          "data": {
            "text/plain": [
              "(0, 255)"
            ]
          },
          "metadata": {},
          "execution_count": 54
        }
      ]
    },
    {
      "cell_type": "code",
      "source": [
        "# becuase all data set between 0 and 1\n",
        "train_features = train_features / 255.0\n",
        "test_features = test_features / 255.0"
      ],
      "metadata": {
        "id": "POEkNnF2RQCw"
      },
      "execution_count": null,
      "outputs": []
    },
    {
      "cell_type": "markdown",
      "source": [
        "# Model definition"
      ],
      "metadata": {
        "id": "AZnliUI2R4KZ"
      }
    },
    {
      "cell_type": "code",
      "source": [
        "model = keras.Sequential()\n",
        "model.add(keras.layers.Flatten())\n",
        "model.add(keras.layers.Dense(units = 128, activation = 'relu'))\n",
        "model.add(keras.layers.Dense(units = 128, activation = 'relu'))\n",
        "model.add(keras.layers.Dense(units = 10, activation = 'softmax'))"
      ],
      "metadata": {
        "id": "iPINQwAaSXCW"
      },
      "execution_count": null,
      "outputs": []
    },
    {
      "cell_type": "code",
      "source": [
        "optimizer = keras.optimizers.Adam()\n",
        "loss = keras.losses.sparse_categorical_crossentropy\n",
        "model.compile(optimizer = optimizer, loss = loss, metrics = ['accuracy'])"
      ],
      "metadata": {
        "id": "UBhUvW0bUhi9"
      },
      "execution_count": null,
      "outputs": []
    },
    {
      "cell_type": "code",
      "source": [
        " model.build(input_shape = (None, 28, 28))\n",
        " model.summary()"
      ],
      "metadata": {
        "colab": {
          "base_uri": "https://localhost:8080/"
        },
        "id": "wgSdWrb1VhNs",
        "outputId": "eea152b2-c5df-4504-b6ba-4cd6881429c7"
      },
      "execution_count": null,
      "outputs": [
        {
          "output_type": "stream",
          "name": "stdout",
          "text": [
            "Model: \"sequential_1\"\n",
            "_________________________________________________________________\n",
            " Layer (type)                Output Shape              Param #   \n",
            "=================================================================\n",
            " flatten_1 (Flatten)         (None, 784)               0         \n",
            "                                                                 \n",
            " dense_3 (Dense)             (None, 128)               100480    \n",
            "                                                                 \n",
            " dense_4 (Dense)             (None, 128)               16512     \n",
            "                                                                 \n",
            " dense_5 (Dense)             (None, 10)                1290      \n",
            "                                                                 \n",
            "=================================================================\n",
            "Total params: 118282 (462.04 KB)\n",
            "Trainable params: 118282 (462.04 KB)\n",
            "Non-trainable params: 0 (0.00 Byte)\n",
            "_________________________________________________________________\n"
          ]
        }
      ]
    },
    {
      "cell_type": "code",
      "source": [
        "early_stop_val_loss = keras.callbacks.EarlyStopping(monitor = 'val_loss', patience = 60, restore_best_weights = True)\n",
        "early_stop_val_accuracy = keras.callbacks.EarlyStopping(monitor = 'val_accuracy' , patience = 60, restore_best_weights = True)"
      ],
      "metadata": {
        "id": "NFVZdYEQe4wd"
      },
      "execution_count": null,
      "outputs": []
    },
    {
      "cell_type": "code",
      "source": [
        "hist = model.fit(train_features, train_labels,\n",
        "                 epochs = 200, batch_size = 256,\n",
        "                 validation_data = (test_features, test_labels),\n",
        "                 callbacks = [early_stop_val_loss, early_stop_val_accuracy]\n",
        "                 )"
      ],
      "metadata": {
        "colab": {
          "base_uri": "https://localhost:8080/"
        },
        "id": "OIJmXnNeWb1X",
        "outputId": "524dd33f-0aab-481b-bd67-4995f6816e72"
      },
      "execution_count": null,
      "outputs": [
        {
          "output_type": "stream",
          "name": "stdout",
          "text": [
            "Epoch 1/200\n",
            "235/235 [==============================] - 2s 5ms/step - loss: 0.4105 - accuracy: 0.8852 - val_loss: 0.1839 - val_accuracy: 0.9451\n",
            "Epoch 2/200\n",
            "235/235 [==============================] - 1s 4ms/step - loss: 0.1553 - accuracy: 0.9542 - val_loss: 0.1390 - val_accuracy: 0.9575\n",
            "Epoch 3/200\n",
            "235/235 [==============================] - 1s 4ms/step - loss: 0.1084 - accuracy: 0.9676 - val_loss: 0.1039 - val_accuracy: 0.9682\n",
            "Epoch 4/200\n",
            "235/235 [==============================] - 1s 4ms/step - loss: 0.0838 - accuracy: 0.9750 - val_loss: 0.0975 - val_accuracy: 0.9687\n",
            "Epoch 5/200\n",
            "235/235 [==============================] - 1s 4ms/step - loss: 0.0674 - accuracy: 0.9799 - val_loss: 0.0885 - val_accuracy: 0.9707\n",
            "Epoch 6/200\n",
            "235/235 [==============================] - 1s 5ms/step - loss: 0.0536 - accuracy: 0.9843 - val_loss: 0.0829 - val_accuracy: 0.9729\n",
            "Epoch 7/200\n",
            "235/235 [==============================] - 1s 5ms/step - loss: 0.0448 - accuracy: 0.9869 - val_loss: 0.0809 - val_accuracy: 0.9743\n",
            "Epoch 8/200\n",
            "235/235 [==============================] - 1s 4ms/step - loss: 0.0369 - accuracy: 0.9893 - val_loss: 0.0768 - val_accuracy: 0.9752\n",
            "Epoch 9/200\n",
            "235/235 [==============================] - 1s 4ms/step - loss: 0.0317 - accuracy: 0.9908 - val_loss: 0.0804 - val_accuracy: 0.9747\n",
            "Epoch 10/200\n",
            "235/235 [==============================] - 1s 4ms/step - loss: 0.0266 - accuracy: 0.9921 - val_loss: 0.0840 - val_accuracy: 0.9743\n",
            "Epoch 11/200\n",
            "235/235 [==============================] - 1s 4ms/step - loss: 0.0216 - accuracy: 0.9938 - val_loss: 0.0742 - val_accuracy: 0.9776\n",
            "Epoch 12/200\n",
            "235/235 [==============================] - 1s 4ms/step - loss: 0.0191 - accuracy: 0.9946 - val_loss: 0.0750 - val_accuracy: 0.9776\n",
            "Epoch 13/200\n",
            "235/235 [==============================] - 1s 4ms/step - loss: 0.0150 - accuracy: 0.9958 - val_loss: 0.0757 - val_accuracy: 0.9779\n",
            "Epoch 14/200\n",
            "235/235 [==============================] - 1s 4ms/step - loss: 0.0156 - accuracy: 0.9949 - val_loss: 0.0844 - val_accuracy: 0.9758\n",
            "Epoch 15/200\n",
            "235/235 [==============================] - 1s 4ms/step - loss: 0.0111 - accuracy: 0.9972 - val_loss: 0.0834 - val_accuracy: 0.9772\n",
            "Epoch 16/200\n",
            "235/235 [==============================] - 1s 4ms/step - loss: 0.0084 - accuracy: 0.9981 - val_loss: 0.0891 - val_accuracy: 0.9777\n",
            "Epoch 17/200\n",
            "235/235 [==============================] - 1s 4ms/step - loss: 0.0067 - accuracy: 0.9985 - val_loss: 0.0836 - val_accuracy: 0.9786\n",
            "Epoch 18/200\n",
            "235/235 [==============================] - 1s 4ms/step - loss: 0.0066 - accuracy: 0.9984 - val_loss: 0.0914 - val_accuracy: 0.9765\n",
            "Epoch 19/200\n",
            "235/235 [==============================] - 1s 5ms/step - loss: 0.0064 - accuracy: 0.9984 - val_loss: 0.0917 - val_accuracy: 0.9777\n",
            "Epoch 20/200\n",
            "235/235 [==============================] - 1s 5ms/step - loss: 0.0058 - accuracy: 0.9988 - val_loss: 0.0909 - val_accuracy: 0.9795\n",
            "Epoch 21/200\n",
            "235/235 [==============================] - 1s 4ms/step - loss: 0.0086 - accuracy: 0.9975 - val_loss: 0.1010 - val_accuracy: 0.9771\n",
            "Epoch 22/200\n",
            "235/235 [==============================] - 1s 4ms/step - loss: 0.0097 - accuracy: 0.9968 - val_loss: 0.1036 - val_accuracy: 0.9751\n",
            "Epoch 23/200\n",
            "235/235 [==============================] - 1s 4ms/step - loss: 0.0050 - accuracy: 0.9985 - val_loss: 0.1006 - val_accuracy: 0.9794\n",
            "Epoch 24/200\n",
            "235/235 [==============================] - 1s 4ms/step - loss: 0.0031 - accuracy: 0.9993 - val_loss: 0.0918 - val_accuracy: 0.9795\n",
            "Epoch 25/200\n",
            "235/235 [==============================] - 1s 4ms/step - loss: 0.0036 - accuracy: 0.9991 - val_loss: 0.1065 - val_accuracy: 0.9771\n",
            "Epoch 26/200\n",
            "235/235 [==============================] - 1s 4ms/step - loss: 0.0089 - accuracy: 0.9969 - val_loss: 0.1126 - val_accuracy: 0.9754\n",
            "Epoch 27/200\n",
            "235/235 [==============================] - 1s 4ms/step - loss: 0.0113 - accuracy: 0.9962 - val_loss: 0.1064 - val_accuracy: 0.9756\n",
            "Epoch 28/200\n",
            "235/235 [==============================] - 1s 4ms/step - loss: 0.0048 - accuracy: 0.9984 - val_loss: 0.1060 - val_accuracy: 0.9780\n",
            "Epoch 29/200\n",
            "235/235 [==============================] - 1s 4ms/step - loss: 0.0024 - accuracy: 0.9993 - val_loss: 0.1071 - val_accuracy: 0.9794\n",
            "Epoch 30/200\n",
            "235/235 [==============================] - 1s 4ms/step - loss: 7.3191e-04 - accuracy: 0.9999 - val_loss: 0.1004 - val_accuracy: 0.9800\n",
            "Epoch 31/200\n",
            "235/235 [==============================] - 1s 4ms/step - loss: 2.9925e-04 - accuracy: 1.0000 - val_loss: 0.1015 - val_accuracy: 0.9801\n",
            "Epoch 32/200\n",
            "235/235 [==============================] - 1s 5ms/step - loss: 2.1618e-04 - accuracy: 1.0000 - val_loss: 0.1025 - val_accuracy: 0.9804\n",
            "Epoch 33/200\n",
            "235/235 [==============================] - 1s 5ms/step - loss: 1.8284e-04 - accuracy: 1.0000 - val_loss: 0.1033 - val_accuracy: 0.9803\n",
            "Epoch 34/200\n",
            "235/235 [==============================] - 1s 4ms/step - loss: 1.6429e-04 - accuracy: 1.0000 - val_loss: 0.1038 - val_accuracy: 0.9804\n",
            "Epoch 35/200\n",
            "235/235 [==============================] - 1s 4ms/step - loss: 1.4348e-04 - accuracy: 1.0000 - val_loss: 0.1055 - val_accuracy: 0.9801\n",
            "Epoch 36/200\n",
            "235/235 [==============================] - 1s 4ms/step - loss: 1.3072e-04 - accuracy: 1.0000 - val_loss: 0.1050 - val_accuracy: 0.9802\n",
            "Epoch 37/200\n",
            "235/235 [==============================] - 1s 4ms/step - loss: 1.1563e-04 - accuracy: 1.0000 - val_loss: 0.1065 - val_accuracy: 0.9802\n",
            "Epoch 38/200\n",
            "235/235 [==============================] - 1s 4ms/step - loss: 1.0461e-04 - accuracy: 1.0000 - val_loss: 0.1074 - val_accuracy: 0.9803\n",
            "Epoch 39/200\n",
            "235/235 [==============================] - 1s 4ms/step - loss: 9.5641e-05 - accuracy: 1.0000 - val_loss: 0.1088 - val_accuracy: 0.9801\n",
            "Epoch 40/200\n",
            "235/235 [==============================] - 1s 4ms/step - loss: 8.9664e-05 - accuracy: 1.0000 - val_loss: 0.1095 - val_accuracy: 0.9801\n",
            "Epoch 41/200\n",
            "235/235 [==============================] - 1s 4ms/step - loss: 7.8905e-05 - accuracy: 1.0000 - val_loss: 0.1105 - val_accuracy: 0.9799\n",
            "Epoch 42/200\n",
            "235/235 [==============================] - 1s 4ms/step - loss: 7.2041e-05 - accuracy: 1.0000 - val_loss: 0.1109 - val_accuracy: 0.9800\n",
            "Epoch 43/200\n",
            "235/235 [==============================] - 1s 4ms/step - loss: 6.7841e-05 - accuracy: 1.0000 - val_loss: 0.1117 - val_accuracy: 0.9795\n",
            "Epoch 44/200\n",
            "235/235 [==============================] - 1s 4ms/step - loss: 6.3128e-05 - accuracy: 1.0000 - val_loss: 0.1128 - val_accuracy: 0.9801\n",
            "Epoch 45/200\n",
            "235/235 [==============================] - 1s 5ms/step - loss: 5.3764e-05 - accuracy: 1.0000 - val_loss: 0.1137 - val_accuracy: 0.9804\n",
            "Epoch 46/200\n",
            "235/235 [==============================] - 1s 4ms/step - loss: 4.9370e-05 - accuracy: 1.0000 - val_loss: 0.1143 - val_accuracy: 0.9801\n",
            "Epoch 47/200\n",
            "235/235 [==============================] - 1s 4ms/step - loss: 4.5096e-05 - accuracy: 1.0000 - val_loss: 0.1163 - val_accuracy: 0.9803\n",
            "Epoch 48/200\n",
            "235/235 [==============================] - 1s 4ms/step - loss: 4.2997e-05 - accuracy: 1.0000 - val_loss: 0.1166 - val_accuracy: 0.9806\n",
            "Epoch 49/200\n",
            "235/235 [==============================] - 1s 4ms/step - loss: 4.0968e-05 - accuracy: 1.0000 - val_loss: 0.1168 - val_accuracy: 0.9802\n",
            "Epoch 50/200\n",
            "235/235 [==============================] - 1s 4ms/step - loss: 4.2976e-05 - accuracy: 1.0000 - val_loss: 0.1195 - val_accuracy: 0.9800\n",
            "Epoch 51/200\n",
            "235/235 [==============================] - 1s 4ms/step - loss: 0.0478 - accuracy: 0.9867 - val_loss: 0.1069 - val_accuracy: 0.9755\n",
            "Epoch 52/200\n",
            "235/235 [==============================] - 1s 4ms/step - loss: 0.0088 - accuracy: 0.9968 - val_loss: 0.1164 - val_accuracy: 0.9766\n",
            "Epoch 53/200\n",
            "235/235 [==============================] - 1s 4ms/step - loss: 0.0026 - accuracy: 0.9993 - val_loss: 0.1116 - val_accuracy: 0.9792\n",
            "Epoch 54/200\n",
            "235/235 [==============================] - 1s 4ms/step - loss: 0.0013 - accuracy: 0.9998 - val_loss: 0.1129 - val_accuracy: 0.9793\n",
            "Epoch 55/200\n",
            "235/235 [==============================] - 1s 4ms/step - loss: 8.1177e-04 - accuracy: 0.9998 - val_loss: 0.1117 - val_accuracy: 0.9792\n",
            "Epoch 56/200\n",
            "235/235 [==============================] - 1s 4ms/step - loss: 3.1461e-04 - accuracy: 1.0000 - val_loss: 0.1101 - val_accuracy: 0.9803\n",
            "Epoch 57/200\n",
            "235/235 [==============================] - 1s 5ms/step - loss: 1.4689e-04 - accuracy: 1.0000 - val_loss: 0.1123 - val_accuracy: 0.9798\n",
            "Epoch 58/200\n",
            "235/235 [==============================] - 1s 5ms/step - loss: 1.1845e-04 - accuracy: 1.0000 - val_loss: 0.1129 - val_accuracy: 0.9805\n",
            "Epoch 59/200\n",
            "235/235 [==============================] - 1s 4ms/step - loss: 1.0155e-04 - accuracy: 1.0000 - val_loss: 0.1139 - val_accuracy: 0.9798\n",
            "Epoch 60/200\n",
            "235/235 [==============================] - 1s 4ms/step - loss: 8.8720e-05 - accuracy: 1.0000 - val_loss: 0.1147 - val_accuracy: 0.9802\n",
            "Epoch 61/200\n",
            "235/235 [==============================] - 1s 4ms/step - loss: 7.8537e-05 - accuracy: 1.0000 - val_loss: 0.1158 - val_accuracy: 0.9800\n",
            "Epoch 62/200\n",
            "235/235 [==============================] - 1s 4ms/step - loss: 6.9833e-05 - accuracy: 1.0000 - val_loss: 0.1159 - val_accuracy: 0.9800\n",
            "Epoch 63/200\n",
            "235/235 [==============================] - 1s 4ms/step - loss: 6.2157e-05 - accuracy: 1.0000 - val_loss: 0.1177 - val_accuracy: 0.9797\n",
            "Epoch 64/200\n",
            "235/235 [==============================] - 1s 4ms/step - loss: 5.5714e-05 - accuracy: 1.0000 - val_loss: 0.1182 - val_accuracy: 0.9798\n",
            "Epoch 65/200\n",
            "235/235 [==============================] - 1s 5ms/step - loss: 5.0336e-05 - accuracy: 1.0000 - val_loss: 0.1191 - val_accuracy: 0.9793\n",
            "Epoch 66/200\n",
            "235/235 [==============================] - 1s 5ms/step - loss: 4.5072e-05 - accuracy: 1.0000 - val_loss: 0.1199 - val_accuracy: 0.9796\n",
            "Epoch 67/200\n",
            "235/235 [==============================] - 1s 4ms/step - loss: 4.0586e-05 - accuracy: 1.0000 - val_loss: 0.1207 - val_accuracy: 0.9798\n",
            "Epoch 68/200\n",
            "235/235 [==============================] - 1s 4ms/step - loss: 3.6464e-05 - accuracy: 1.0000 - val_loss: 0.1213 - val_accuracy: 0.9796\n",
            "Epoch 69/200\n",
            "235/235 [==============================] - 1s 5ms/step - loss: 3.2895e-05 - accuracy: 1.0000 - val_loss: 0.1225 - val_accuracy: 0.9798\n",
            "Epoch 70/200\n",
            "235/235 [==============================] - 1s 5ms/step - loss: 2.9911e-05 - accuracy: 1.0000 - val_loss: 0.1231 - val_accuracy: 0.9795\n",
            "Epoch 71/200\n",
            "235/235 [==============================] - 1s 4ms/step - loss: 2.7005e-05 - accuracy: 1.0000 - val_loss: 0.1243 - val_accuracy: 0.9798\n"
          ]
        }
      ]
    },
    {
      "cell_type": "code",
      "source": [
        "plt.plot(hist.history['loss'])\n",
        "plt.plot(hist.history['val_loss'])"
      ],
      "metadata": {
        "colab": {
          "base_uri": "https://localhost:8080/",
          "height": 448
        },
        "id": "YxPFQDY5nGrI",
        "outputId": "a1ad388f-dd8b-4808-dfa2-9531ff83ec4e"
      },
      "execution_count": null,
      "outputs": [
        {
          "output_type": "execute_result",
          "data": {
            "text/plain": [
              "[<matplotlib.lines.Line2D at 0x7efcacf5c3d0>]"
            ]
          },
          "metadata": {},
          "execution_count": 67
        },
        {
          "output_type": "display_data",
          "data": {
            "text/plain": [
              "<Figure size 640x480 with 1 Axes>"
            ],
            "image/png": "[encoded data removed]"
          },
          "metadata": {}
        }
      ]
    },
    {
      "cell_type": "code",
      "source": [
        "plt.plot(hist.history['accuracy'])\n",
        "plt.plot(hist.history['val_accuracy'])"
      ],
      "metadata": {
        "colab": {
          "base_uri": "https://localhost:8080/",
          "height": 448
        },
        "id": "4h0MAkdLhR5k",
        "outputId": "1ee1577c-d53e-400e-902d-70db311389ce"
      },
      "execution_count": null,
      "outputs": [
        {
          "output_type": "execute_result",
          "data": {
            "text/plain": [
              "[<matplotlib.lines.Line2D at 0x7efcad766e30>]"
            ]
          },
          "metadata": {},
          "execution_count": 68
        },
        {
          "output_type": "display_data",
          "data": {
            "text/plain": [
              "<Figure size 640x480 with 1 Axes>"
            ],
            "image/png": "[encoded data removed]"
          },
          "metadata": {}
        }
      ]
    },
    {
      "cell_type": "code",
      "source": [
        "model.evaluate(test_features, test_labels)"
      ],
      "metadata": {
        "colab": {
          "base_uri": "https://localhost:8080/"
        },
        "id": "_NdBRvp0h8bm",
        "outputId": "1e720079-36ff-4a2a-9a87-001d00a10d88"
      },
      "execution_count": null,
      "outputs": [
        {
          "output_type": "stream",
          "name": "stdout",
          "text": [
            "313/313 [==============================] - 1s 2ms/step - loss: 0.0742 - accuracy: 0.9776\n"
          ]
        },
        {
          "output_type": "execute_result",
          "data": {
            "text/plain": [
              "[0.07420655339956284, 0.9775999784469604]"
            ]
          },
          "metadata": {},
          "execution_count": 69
        }
      ]
    },
    {
      "cell_type": "markdown",
      "source": [
        "# Predict"
      ],
      "metadata": {
        "id": "p_G6Lp52ilr7"
      }
    },
    {
      "cell_type": "code",
      "source": [
        "idx = 110\n",
        "img = test_features[idx]\n",
        "print(test_labels[idx])"
      ],
      "metadata": {
        "colab": {
          "base_uri": "https://localhost:8080/"
        },
        "id": "LsYPgatki2LN",
        "outputId": "55a7939f-633d-42d3-e5c6-b0b23d314b9f"
      },
      "execution_count": null,
      "outputs": [
        {
          "output_type": "stream",
          "name": "stdout",
          "text": [
            "8\n"
          ]
        }
      ]
    },
    {
      "cell_type": "code",
      "source": [
        "plt.imshow(img)"
      ],
      "metadata": {
        "colab": {
          "base_uri": "https://localhost:8080/",
          "height": 448
        },
        "id": "HGz__8LNjHne",
        "outputId": "2420ea3e-92cd-40f3-cd29-ad97ec5ddf59"
      },
      "execution_count": null,
      "outputs": [
        {
          "output_type": "execute_result",
          "data": {
            "text/plain": [
              "<matplotlib.image.AxesImage at 0x7efcad5e5750>"
            ]
          },
          "metadata": {},
          "execution_count": 71
        },
        {
          "output_type": "display_data",
          "data": {
            "text/plain": [
              "<Figure size 640x480 with 1 Axes>"
            ],
            "image/png": "[encoded data removed]"
          },
          "metadata": {}
        }
      ]
    },
    {
      "cell_type": "code",
      "source": [
        "model.predict(np.reshape(img, (-1, 784)))"
      ],
      "metadata": {
        "colab": {
          "base_uri": "https://localhost:8080/"
        },
        "id": "B-okuazPkoC4",
        "outputId": "c89c8b08-326c-43d7-e5b7-31d58acbbfce"
      },
      "execution_count": null,
      "outputs": [
        {
          "output_type": "stream",
          "name": "stdout",
          "text": [
            "1/1 [==============================] - 0s 18ms/step\n"
          ]
        },
        {
          "output_type": "execute_result",
          "data": {
            "text/plain": [
              "array([[3.9089278e-09, 2.4684841e-08, 1.7122219e-06, 8.0419246e-05,\n",
              "        1.6390734e-11, 2.5867269e-08, 1.2266065e-09, 9.7053691e-13,\n",
              "        9.9991786e-01, 1.8942918e-08]], dtype=float32)"
            ]
          },
          "metadata": {},
          "execution_count": 72
        }
      ]
    }
  ]
}